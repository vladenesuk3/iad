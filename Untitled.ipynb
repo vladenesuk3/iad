{
 "cells": [
  {
   "cell_type": "markdown",
   "id": "ed855af1",
   "metadata": {},
   "source": [
    "Импорты"
   ]
  },
  {
   "cell_type": "code",
   "execution_count": 1,
   "id": "3ab48f72",
   "metadata": {},
   "outputs": [],
   "source": [
    "import numpy as np\n",
    "from sklearn.pipeline import Pipeline\n",
    "from sklearn.preprocessing import StandardScaler\n",
    "from sklearn.datasets import make_friedman2\n",
    "from sklearn.metrics import mean_squared_error, mean_absolute_error, mean_absolute_percentage_error\n",
    "from sklearn.model_selection import train_test_split\n",
    "from sklearn.svm import LinearSVR, SVR\n",
    "from sklearn.model_selection import GridSearchCV\n",
    "import pandas as pd\n",
    "import matplotlib.pyplot as plt\n",
    "import time"
   ]
  },
  {
   "cell_type": "markdown",
   "id": "36fc5864",
   "metadata": {},
   "source": [
    "Присваиваем x y к датасету"
   ]
  },
  {
   "cell_type": "code",
   "execution_count": 2,
   "id": "fd66cd3d",
   "metadata": {},
   "outputs": [],
   "source": [
    "x, y = make_friedman2(random_state=0, n_samples=15000, noise=0.5)\n",
    "g = time.time()"
   ]
  },
  {
   "cell_type": "markdown",
   "id": "57263ce8",
   "metadata": {},
   "source": [
    "Создаем тренеровочные данные и тестовые"
   ]
  },
  {
   "cell_type": "code",
   "execution_count": 3,
   "id": "a128be79",
   "metadata": {},
   "outputs": [],
   "source": [
    "x_train, x_test, y_train, y_test = train_test_split(x, y, test_size=0.2, random_state=0)"
   ]
  },
  {
   "cell_type": "markdown",
   "id": "afcd58c4",
   "metadata": {},
   "source": [
    "Ищем лучшие гиперпараметры"
   ]
  },
  {
   "cell_type": "code",
   "execution_count": 4,
   "id": "b27052df",
   "metadata": {},
   "outputs": [
    {
     "data": {
      "text/plain": [
       "GridSearchCV(estimator=Pipeline(steps=[('scaler', StandardScaler()),\n",
       "                                       ('linear_svr', SVR())]),\n",
       "             param_grid={'linear_svr__C': array([1, 2, 3]),\n",
       "                         'linear_svr__gamma': array([0.01, 0.02, 0.03, 0.04, 0.05, 0.06, 0.07, 0.08, 0.09])})"
      ]
     },
     "execution_count": 4,
     "metadata": {},
     "output_type": "execute_result"
    }
   ],
   "source": [
    "pipe_linearsvr = Pipeline([('scaler', StandardScaler()), ('linear_svr', LinearSVR())])\n",
    "pipe_svr_linear = Pipeline([('scaler', StandardScaler()), ('linear_svr', SVR(kernel='linear'))])\n",
    "pipe_svr_poly = Pipeline([('scaler', StandardScaler()), ('linear_svr', SVR(kernel='poly'))])\n",
    "pipe_svr_rbf = Pipeline([('scaler', StandardScaler()), ('linear_svr', SVR(kernel='rbf'))])\n",
    "\n",
    "search_linearsvr = GridSearchCV(pipe_linearsvr, {'linear_svr__epsilon': np.arange(0.01, 0.1, 0.01)})\n",
    "search_svr_linear = GridSearchCV(pipe_svr_linear, {'linear_svr__epsilon': np.arange(0.01, 0.1, 0.01)})\n",
    "search_svr_poly = GridSearchCV(pipe_svr_poly, {'linear_svr__epsilon': np.arange(0.01, 0.1, 0.01),\n",
    "                                               'linear_svr__C': np.arange(1, 4, 1),\n",
    "                                               'linear_svr__degree': [2, 3, 4, 5]})\n",
    "search_svr_rbf = GridSearchCV(pipe_svr_rbf, {'linear_svr__gamma': np.arange(0.01, 0.1, 0.01),\n",
    "                                             'linear_svr__C': np.arange(1, 4, 1)})\n",
    "\n",
    "search_linearsvr.fit(x_train, y_train)\n",
    "search_svr_linear.fit(x_train, y_train)\n",
    "search_svr_poly.fit(x_train, y_train)\n",
    "search_svr_rbf.fit(x_train, y_train)"
   ]
  },
  {
   "cell_type": "markdown",
   "id": "d85b13ec",
   "metadata": {},
   "source": [
    "Выводим лучшие гиперпараметры"
   ]
  },
  {
   "cell_type": "code",
   "execution_count": 5,
   "id": "964578bb",
   "metadata": {},
   "outputs": [
    {
     "data": {
      "text/plain": [
       "({'linear_svr__epsilon': 0.02},\n",
       " {'linear_svr__epsilon': 0.06999999999999999},\n",
       " {'linear_svr__C': 3, 'linear_svr__degree': 3, 'linear_svr__epsilon': 0.09},\n",
       " {'linear_svr__C': 3, 'linear_svr__gamma': 0.06999999999999999})"
      ]
     },
     "execution_count": 5,
     "metadata": {},
     "output_type": "execute_result"
    }
   ],
   "source": [
    "search_linearsvr.best_params_, search_svr_linear.best_params_, search_svr_poly.best_params_, search_svr_rbf.best_params_\n",
    "# search_svr_linear.best_params_\n",
    "# search_svr_poly.best_params_\n",
    "# search_svr_rbf.best_params_"
   ]
  },
  {
   "cell_type": "markdown",
   "id": "81cc7fb9",
   "metadata": {},
   "source": [
    "выводим таблицу с метриками"
   ]
  },
  {
   "cell_type": "code",
   "execution_count": 6,
   "id": "e7947633",
   "metadata": {},
   "outputs": [
    {
     "data": {
      "text/html": [
       "<div>\n",
       "<style scoped>\n",
       "    .dataframe tbody tr th:only-of-type {\n",
       "        vertical-align: middle;\n",
       "    }\n",
       "\n",
       "    .dataframe tbody tr th {\n",
       "        vertical-align: top;\n",
       "    }\n",
       "\n",
       "    .dataframe thead th {\n",
       "        text-align: right;\n",
       "    }\n",
       "</style>\n",
       "<table border=\"1\" class=\"dataframe\">\n",
       "  <thead>\n",
       "    <tr style=\"text-align: right;\">\n",
       "      <th></th>\n",
       "      <th>LinearSVR</th>\n",
       "      <th>SVR_Linear</th>\n",
       "      <th>SVR_poly</th>\n",
       "      <th>SVR_rbf</th>\n",
       "    </tr>\n",
       "  </thead>\n",
       "  <tbody>\n",
       "    <tr>\n",
       "      <th>R2</th>\n",
       "      <td>0.860386</td>\n",
       "      <td>0.860466</td>\n",
       "      <td>0.770491</td>\n",
       "      <td>0.987313</td>\n",
       "    </tr>\n",
       "    <tr>\n",
       "      <th>RMSE</th>\n",
       "      <td>19725.214481</td>\n",
       "      <td>19713.916954</td>\n",
       "      <td>32425.953402</td>\n",
       "      <td>1792.469034</td>\n",
       "    </tr>\n",
       "    <tr>\n",
       "      <th>MAE</th>\n",
       "      <td>105.093085</td>\n",
       "      <td>105.059486</td>\n",
       "      <td>136.170408</td>\n",
       "      <td>21.863630</td>\n",
       "    </tr>\n",
       "    <tr>\n",
       "      <th>MAPE</th>\n",
       "      <td>0.736331</td>\n",
       "      <td>0.737302</td>\n",
       "      <td>0.874181</td>\n",
       "      <td>0.088166</td>\n",
       "    </tr>\n",
       "  </tbody>\n",
       "</table>\n",
       "</div>"
      ],
      "text/plain": [
       "         LinearSVR    SVR_Linear      SVR_poly      SVR_rbf\n",
       "R2        0.860386      0.860466      0.770491     0.987313\n",
       "RMSE  19725.214481  19713.916954  32425.953402  1792.469034\n",
       "MAE     105.093085    105.059486    136.170408    21.863630\n",
       "MAPE      0.736331      0.737302      0.874181     0.088166"
      ]
     },
     "execution_count": 6,
     "metadata": {},
     "output_type": "execute_result"
    }
   ],
   "source": [
    "pd_metrics_search = pd.DataFrame(data=[[search_linearsvr.score(x_test, y_test), search_svr_linear.score(x_test, y_test),\n",
    "                                        search_svr_poly.score(x_test, y_test), search_svr_rbf.score(x_test, y_test)],\n",
    "                                       [mean_squared_error(y_test, search_linearsvr.predict(x_test)),\n",
    "                                        mean_squared_error(y_test, search_svr_linear.predict(x_test)),\n",
    "                                        mean_squared_error(y_test, search_svr_poly.predict(x_test)),\n",
    "                                        mean_squared_error(y_test, search_svr_rbf.predict(x_test))],\n",
    "                                       [mean_absolute_error(y_test, search_linearsvr.predict(x_test)),\n",
    "                                        mean_absolute_error(y_test, search_svr_linear.predict(x_test)),\n",
    "                                        mean_absolute_error(y_test, search_svr_poly.predict(x_test)),\n",
    "                                        mean_absolute_error(y_test, search_svr_rbf.predict(x_test))],\n",
    "                                       [mean_absolute_percentage_error(y_test, search_linearsvr.predict(x_test)),\n",
    "                                        mean_absolute_percentage_error(y_test, search_svr_linear.predict(x_test)),\n",
    "                                        mean_absolute_percentage_error(y_test, search_svr_poly.predict(x_test)),\n",
    "                                        mean_absolute_percentage_error(y_test, search_svr_rbf.predict(x_test))]],\n",
    "                                 index=['R2', 'RMSE', 'MAE', \"MAPE\"],\n",
    "                                 columns=[\"LinearSVR\", \"SVR_Linear\", \"SVR_poly\", \"SVR_rbf\"])\n",
    "pd_metrics_search"
   ]
  },
  {
   "cell_type": "markdown",
   "id": "772823b1",
   "metadata": {},
   "source": [
    "Плотим данные"
   ]
  },
  {
   "cell_type": "code",
   "execution_count": 7,
   "id": "036bcc48",
   "metadata": {},
   "outputs": [
    {
     "data": {
      "image/png": "[encoded data removed]",
      "text/plain": [
       "<Figure size 1440x720 with 4 Axes>"
      ]
     },
     "metadata": {
      "needs_background": "light"
     },
     "output_type": "display_data"
    }
   ],
   "source": [
    "fig1, (ax1, ax2, ax3, ax4) = plt.subplots(1, 4, figsize=(20, 10))\n",
    "\n",
    "ax1.scatter(y_test, search_linearsvr.predict(x_test))\n",
    "ax1.set_title('LinearSVR')\n",
    "ax2.scatter(y_test, search_svr_linear.predict(x_test))\n",
    "ax2.set_title('SVR linear')\n",
    "ax3.scatter(y_test, search_svr_poly.predict(x_test))\n",
    "ax3.set_title('SVR poly')\n",
    "ax4.scatter(y_test, search_svr_rbf.predict(x_test))\n",
    "ax4.set_title('SVR rbf')\n",
    "\n",
    "plt.show()"
   ]
  },
  {
   "cell_type": "code",
   "execution_count": 8,
   "id": "c84a0c01",
   "metadata": {},
   "outputs": [
    {
     "data": {
      "text/plain": [
       "-4081.6746962070465"
      ]
     },
     "execution_count": 8,
     "metadata": {},
     "output_type": "execute_result"
    }
   ],
   "source": [
    "hui = (g - time.time())\n",
    "hui"
   ]
  },
  {
   "cell_type": "markdown",
   "id": "b9410ce1",
   "metadata": {},
   "source": [
    "Проверка на 50 сэмплов с лучшими гиперпараметрами для точночти метрик"
   ]
  },
  {
   "cell_type": "code",
   "execution_count": 5,
   "id": "fe08c6c2",
   "metadata": {},
   "outputs": [
    {
     "data": {
      "text/plain": [
       "(         LinearSVR    SVR_Linear      SVR_poly     SVR_rbf\n",
       " R2        0.865565      0.865622      0.757333    0.996201\n",
       " RMSE  19092.458204  19084.250115  34463.531029  539.563808\n",
       " MAE     103.575614    103.559463    137.970920   11.786687\n",
       " MAPE      0.776095      0.775245      1.108537    0.051530,\n",
       " -409.92769050598145)"
      ]
     },
     "execution_count": 5,
     "metadata": {},
     "output_type": "execute_result"
    }
   ],
   "source": [
    "x, y = make_friedman2(random_state=18, n_samples=50000, noise=0.5)\n",
    "\n",
    "x_train, x_test, y_train, y_test = train_test_split(x, y, test_size=0.2, random_state=0)\n",
    "\n",
    "g1 = time.time()\n",
    "\n",
    "best_est1 = Pipeline([('scaler', StandardScaler()), ('svr', LinearSVR(epsilon=0.02))])\n",
    "best_est2 = Pipeline([('scaler', StandardScaler()), ('svr', SVR(kernel='linear', epsilon=0.07))])\n",
    "best_est3 = Pipeline([('scaler', StandardScaler()), ('svr', SVR(kernel='poly', C=3, epsilon=0.09, degree=3))])\n",
    "best_est4 = Pipeline([('scaler', StandardScaler()), ('svr', SVR(kernel='rbf', C=3, gamma=0.07))])\n",
    "\n",
    "best_est1.fit(x_train, y_train)\n",
    "best_est2.fit(x_train, y_train)\n",
    "best_est3.fit(x_train, y_train)\n",
    "best_est4.fit(x_train, y_train)\n",
    "\n",
    "best_est_predict1 = best_est1.predict(x_test)\n",
    "best_est_predict2 = best_est2.predict(x_test)\n",
    "best_est_predict3 = best_est3.predict(x_test)\n",
    "best_est_predict4 = best_est4.predict(x_test)\n",
    "\n",
    "pd_metrics_search = pd.DataFrame(data=[[best_est1.score(x_test, y_test), best_est2.score(x_test, y_test),\n",
    "                                        best_est3.score(x_test, y_test), best_est4.score(x_test, y_test)],\n",
    "                                       [mean_squared_error(y_test, best_est_predict1),\n",
    "                                        mean_squared_error(y_test, best_est_predict2),\n",
    "                                        mean_squared_error(y_test, best_est_predict3),\n",
    "                                        mean_squared_error(y_test, best_est_predict4)],\n",
    "                                       [mean_absolute_error(y_test, best_est_predict1),\n",
    "                                        mean_absolute_error(y_test, best_est_predict2),\n",
    "                                        mean_absolute_error(y_test, best_est_predict3),\n",
    "                                        mean_absolute_error(y_test, best_est_predict4)],\n",
    "                                       [mean_absolute_percentage_error(y_test, best_est_predict1),\n",
    "                                        mean_absolute_percentage_error(y_test, best_est_predict2),\n",
    "                                        mean_absolute_percentage_error(y_test, best_est_predict3),\n",
    "                                        mean_absolute_percentage_error(y_test, best_est_predict4)]],\n",
    "                                 index=['R2', 'RMSE', 'MAE', \"MAPE\"],\n",
    "                                 columns=[\"LinearSVR\", \"SVR_Linear\", \"SVR_poly\", \"SVR_rbf\"])\n",
    "pd_metrics_search, (g1-time.time())\n"
   ]
  },
  {
   "cell_type": "code",
   "execution_count": null,
   "id": "acb24916",
   "metadata": {},
   "outputs": [],
   "source": [
    "x, y = make_friedman2(random_state=18, n_samples=100000, noise=0.5)\n",
    "\n",
    "x_train, x_test, y_train, y_test = train_test_split(x, y, test_size=0.2, random_state=0)\n",
    "\n",
    "g2 = time.time()\n",
    "\n",
    "best_est1_ = Pipeline([('scaler', StandardScaler()), ('svr', LinearSVR(epsilon=0.02))])\n",
    "best_est2_ = Pipeline([('scaler', StandardScaler()), ('svr', SVR(kernel='linear', epsilon=0.07))])\n",
    "best_est3_ = Pipeline([('scaler', StandardScaler()), ('svr', SVR(kernel='poly', C=3, epsilon=0.09, degree=3))])\n",
    "best_est4_ = Pipeline([('scaler', StandardScaler()), ('svr', SVR(kernel='rbf', C=3, gamma=0.07))])\n",
    "\n",
    "best_est1_.fit(x_train, y_train)\n",
    "best_est2_.fit(x_train, y_train)\n",
    "best_est3_.fit(x_train, y_train)\n",
    "best_est4_.fit(x_train, y_train)\n",
    "\n",
    "best_est_predict1_ = best_est1.predict(x_test)\n",
    "best_est_predict2_ = best_est2.predict(x_test)\n",
    "best_est_predict3_ = best_est3.predict(x_test)\n",
    "best_est_predict4_ = best_est4.predict(x_test)\n",
    "\n",
    "pd_metrics_search2 = pd.DataFrame(data=[[best_est1_.score(x_test, y_test), best_est2_.score(x_test, y_test),\n",
    "                                        best_est3_.score(x_test, y_test), best_est4_.score(x_test, y_test)],\n",
    "                                       [mean_squared_error(y_test, best_est_predict1_),\n",
    "                                        mean_squared_error(y_test, best_est_predict2_),\n",
    "                                        mean_squared_error(y_test, best_est_predict3_),\n",
    "                                        mean_squared_error(y_test, best_est_predict4_)],\n",
    "                                       [mean_absolute_error(y_test, best_est_predict1_),\n",
    "                                        mean_absolute_error(y_test, best_est_predict2_),\n",
    "                                        mean_absolute_error(y_test, best_est_predict3_),\n",
    "                                        mean_absolute_error(y_test, best_est_predict4_)],\n",
    "                                       [mean_absolute_percentage_error(y_test, best_est_predict1_),\n",
    "                                        mean_absolute_percentage_error(y_test, best_est_predict2_),\n",
    "                                        mean_absolute_percentage_error(y_test, best_est_predict3_),\n",
    "                                        mean_absolute_percentage_error(y_test, best_est_predict4_)]],\n",
    "                                 index=['R2', 'RMSE', 'MAE', \"MAPE\"],\n",
    "                                 columns=[\"LinearSVR\", \"SVR_Linear\", \"SVR_poly\", \"SVR_rbf\"])\n",
    "pd_metrics_search2, (g2-time.time())"
   ]
  },
  {
   "cell_type": "code",
   "execution_count": 4,
   "id": "c927c0e7",
   "metadata": {},
   "outputs": [
    {
     "data": {
      "text/plain": [
       "(         LinearSVR    SVR_Linear      SVR_poly     SVR_rbf\n",
       " R2        0.867424      0.867460      0.762565    0.999397\n",
       " RMSE  18862.304567  18856.712307  33727.163055  549.980660\n",
       " MAE     102.693953    102.690793    135.921782   11.968937\n",
       " MAPE      0.744914      0.744133      1.029826    0.045757,\n",
       " -6434.465941905975)"
      ]
     },
     "execution_count": 4,
     "metadata": {},
     "output_type": "execute_result"
    }
   ],
   "source": [
    "x, y = make_friedman2(random_state=0, n_samples=200000)\n",
    "\n",
    "x_train, x_test, y_train, y_test = train_test_split(x, y, test_size=0.2, random_state=0)\n",
    "\n",
    "g3 = time.time()\n",
    "\n",
    "best_est1__ = Pipeline([('scaler', StandardScaler()), ('svr', LinearSVR(epsilon=0.02))])\n",
    "best_est2__ = Pipeline([('scaler', StandardScaler()), ('svr', SVR(kernel='linear', epsilon=0.07))])\n",
    "best_est3__ = Pipeline([('scaler', StandardScaler()), ('svr', SVR(kernel='poly', C=3, epsilon=0.09, degree=3))])\n",
    "best_est4__ = Pipeline([('scaler', StandardScaler()), ('svr', SVR(kernel='rbf', C=3, gamma=0.07))])\n",
    "\n",
    "best_est1__.fit(x_train, y_train)\n",
    "best_est2__.fit(x_train, y_train)\n",
    "best_est3__.fit(x_train, y_train)\n",
    "best_est4__.fit(x_train, y_train)\n",
    "\n",
    "best_est_predict1__ = best_est1.predict(x_test)\n",
    "best_est_predict2__ = best_est2.predict(x_test)\n",
    "best_est_predict3__ = best_est3.predict(x_test)\n",
    "best_est_predict4__ = best_est4.predict(x_test)\n",
    "\n",
    "pd_metrics_search3 = pd.DataFrame(data=[[best_est1__.score(x_test, y_test), best_est2__.score(x_test, y_test),\n",
    "                                        best_est3__.score(x_test, y_test), best_est4__.score(x_test, y_test)],\n",
    "                                       [mean_squared_error(y_test, best_est_predict1__),\n",
    "                                        mean_squared_error(y_test, best_est_predict2__),\n",
    "                                        mean_squared_error(y_test, best_est_predict3__),\n",
    "                                        mean_squared_error(y_test, best_est_predict4__)],\n",
    "                                       [mean_absolute_error(y_test, best_est_predict1__),\n",
    "                                        mean_absolute_error(y_test, best_est_predict2__),\n",
    "                                        mean_absolute_error(y_test, best_est_predict3__),\n",
    "                                        mean_absolute_error(y_test, best_est_predict4__)],\n",
    "                                       [mean_absolute_percentage_error(y_test, best_est_predict1__),\n",
    "                                        mean_absolute_percentage_error(y_test, best_est_predict2__),\n",
    "                                        mean_absolute_percentage_error(y_test, best_est_predict3__),\n",
    "                                        mean_absolute_percentage_error(y_test, best_est_predict4__)]],\n",
    "                                 index=['R2', 'RMSE', 'MAE', \"MAPE\"],\n",
    "                                 columns=[\"LinearSVR\", \"SVR_Linear\", \"SVR_poly\", \"SVR_rbf\"])\n",
    "pd_metrics_search3, (g3-time.time())"
   ]
  },
  {
   "cell_type": "code",
   "execution_count": null,
   "id": "7fd66201",
   "metadata": {},
   "outputs": [],
   "source": []
  }
 ],
 "metadata": {
  "kernelspec": {
   "display_name": "Python 3",
   "language": "python",
   "name": "python3"
  },
  "language_info": {
   "codemirror_mode": {
    "name": "ipython",
    "version": 3
   },
   "file_extension": ".py",
   "mimetype": "text/x-python",
   "name": "python",
   "nbconvert_exporter": "python",
   "pygments_lexer": "ipython3",
   "version": "3.8.8"
  }
 },
 "nbformat": 4,
 "nbformat_minor": 5
}
